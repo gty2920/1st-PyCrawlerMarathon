{
 "cells": [
  {
   "cell_type": "markdown",
   "metadata": {},
   "source": [
    "# 動態網頁爬蟲 - API Request\n",
    "\n",
    "* 了解 API Request 用於動態網頁爬蟲的原理\n",
    "* 能夠使用 API Request 撰寫動態網頁爬蟲\n",
    "\n",
    "\n",
    "\n",
    "\n"
   ]
  },
  {
   "cell_type": "markdown",
   "metadata": {},
   "source": [
    "## 作業目標\n",
    "\n",
    "\n",
    "* 根據範例使用 API 取出 高雄市小港區 2019 年 空氣品質 資料，並用一個適合的資料結構儲存\n",
    "* Hint: 將所有資料存在一個變數當中\n"
   ]
  },
  {
   "cell_type": "code",
   "execution_count": 6,
   "metadata": {},
   "outputs": [
    {
     "data": {
      "text/plain": [
       "200"
      ]
     },
     "execution_count": 6,
     "metadata": {},
     "output_type": "execute_result"
    }
   ],
   "source": [
    "import requests\n",
    "url = 'https://taqm.epa.gov.tw/taqm/tw/MonthlyAverage.aspx'\n",
    "payload = {\n",
    "    'ctl05$ddlSite': 58,\n",
    "    'ctl05$ddlYear': 2019,\n",
    "    'ScriptManager1': 'ctl05$UpdatePanel1|ctl05$btnQuery',\n",
    "    '__VIEWSTATE': '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',\n",
    "    '__VIEWSTATEGENERATOR': '0C858E1A',\n",
    "    '__EVENTVALIDATION': 'hQI2LXH01K5M+CasLxzftOA61fYGkwGxTzYomzvAho7XAIimxHGF7Qm04LJn2tOhRFRQLXTnU1Bg6VmARljTHMXTamzXwlUE9BTjB8Uoi+2sLQ1TBrLUA/oPgskcqhlx5Q+fGBSp1cKleZMzaXpmuc/YbTKMQtfJQELoefiOTvfiePEwf/FKbKLpmZEVH3tAXWfoXvW53NKyDaEw3T3GpQh3/WddJOrXE4pcCU0hLLaNNJrCTIX6bZRZnpU6keEvoJn8KRmVvJ+E1QuNiwEcxy4YT9/OFdKoat6pmfxjaI4uHHMNa7HkkvxNk+eWlOKnRQdtnAg73ZDpG+oQp2LGiSmrIgOIinxV09qR1GQAjQ9kRUVoQrMbJdeBYjSaS8dFBQLA51Yq2bt1kL/+z/ThCBN0eJMU15xi/8Q4rAkYKcs4HcejPJgg7ogJBjwJ9jqYZTODoMwj3G2cSiYDmEDrXb7U/C9lSDvl5+au6yvOG/xvbNCogBzDjDSmVT9h7uupbb9WbmJsS2eYSI/hnDSt+gsavIJZMJCViCOweWyW+QPAjooB8ocS35m0Si8sKThelAURH2rQgoxx3G/kUHHaXEy0zkd3qWHDZ2GzTlxrmsbBWwalOCnBFPFtwcq+S9+EkNG8tBS0SPtpXSGF9HPe2Od4nys1DZH/9+jTZ32TA+IQBAfKQXxu3CAkJcfFCWSOlw4kVgfX/IvCqhif1h+4u6BPy4OfY9MVsZJlJ+k4NcpJzvMhrLm0nMfYNF01gjl/X9Nr75ecqUtRVhjxgdIKxxWATHIH0v9e730VLsmXFAuuI9BOTyWGAVz+EHsIhAVC4eltSWeNdBm3yQ34Ys4cuovW4HN9ki2ovMgCo/hL4VVUWZB2ibYPoNESaY4297ZrKb74w9LK2EnKFiXNw+BLexIYgcQH+w+gJ7vcuNym7haCqx0tLkRWEIn0Pc1ZPTpvdaD55Q==',\n",
    "\n",
    "}\n",
    "r = requests.post(url, data=payload)\n",
    "r.status_code"
   ]
  },
  {
   "cell_type": "markdown",
   "metadata": {},
   "source": [
    "![](https://imgur.com/obLkbFe.jpg)"
   ]
  },
  {
   "cell_type": "code",
   "execution_count": 8,
   "metadata": {},
   "outputs": [
    {
     "name": "stdout",
     "output_type": "stream",
     "text": [
      "None\n"
     ]
    }
   ],
   "source": [
    "from bs4 import BeautifulSoup\n",
    "\n",
    "soup = BeautifulSoup(r.text, 'html.parser')\n",
    "table = soup.find('table', class_='TABLE_G')\n",
    "print(table)"
   ]
  },
  {
   "cell_type": "code",
   "execution_count": 4,
   "metadata": {},
   "outputs": [
    {
     "name": "stdout",
     "output_type": "stream",
     "text": [
      "{'SO2': {'2019/01': '4.10', '2019/02': '3.30', '2019/03': '3.90', '2019/04': '3.40', '2019/05': '3.30', '2019/06': '4.10', '2019/07': '4', '2019/08': '4.60', '2019/09': '3.50', '2019/10': '3.20', '2019/11': '3.60'}, 'CO': {'2019/01': '0.67', '2019/02': '0.48', '2019/03': '0.50', '2019/04': '0.39', '2019/05': '0.38', '2019/06': '0.24', '2019/07': '0.28', '2019/08': '0.33', '2019/09': '0.32', '2019/10': '0.36', '2019/11': '0.46'}, 'O3': {'2019/01': '24.70', '2019/02': '29.40', '2019/03': '29.20', '2019/04': '30.40', '2019/05': '28.60', '2019/06': '16.30', '2019/07': '15.50', '2019/08': '19.70', '2019/09': '35.70', '2019/10': '44', '2019/11': '34.80'}, 'PM10': {'2019/01': '78', '2019/02': '57', '2019/03': '52', '2019/04': '42', '2019/05': '35', '2019/06': '20', '2019/07': '24', '2019/08': '27', '2019/09': '35', '2019/10': '50', '2019/11': '63'}, 'NOx': {'2019/01': '38.01', '2019/02': '25.62', '2019/03': '27.84', '2019/04': '21.83', '2019/05': '22.55', '2019/06': '17.15', '2019/07': '17.71', '2019/08': '19.66', '2019/09': '18.66', '2019/10': '19.50', '2019/11': '28.99'}, 'NO': {'2019/01': '7.95', '2019/02': '4.76', '2019/03': '5.41', '2019/04': '4.16', '2019/05': '4.58', '2019/06': '5.08', '2019/07': '5.16', '2019/08': '5.17', '2019/09': '3.63', '2019/10': '3.50', '2019/11': '5.21'}, 'NO2': {'2019/01': '30.06', '2019/02': '20.86', '2019/03': '22.43', '2019/04': '17.68', '2019/05': '17.98', '2019/06': '12.08', '2019/07': '12.54', '2019/08': '14.49', '2019/09': '15.03', '2019/10': '15.99', '2019/11': '23.78'}, 'THC': {'2019/01': '2.27', '2019/02': '2.11', '2019/03': '2.12', '2019/04': '2.02', '2019/05': '2.02', '2019/06': '1.92', '2019/07': '1.93', '2019/08': '1.97', '2019/09': '1.98', '2019/10': '2.05', '2019/11': '2.15'}, 'NMHC': {'2019/01': '0.27', '2019/02': '0.17', '2019/03': '0.18', '2019/04': '0.14', '2019/05': '0.16', '2019/06': '0.13', '2019/07': '0.14', '2019/08': '0.15', '2019/09': '0.13', '2019/10': '0.13', '2019/11': '0.21'}, 'CH4': {'2019/01': '2', '2019/02': '1.94', '2019/03': '1.94', '2019/04': '1.88', '2019/05': '1.86', '2019/06': '1.79', '2019/07': '1.80', '2019/08': '1.82', '2019/09': '1.86', '2019/10': '1.92', '2019/11': '1.94'}}\n"
     ]
    }
   ],
   "source": [
    "'''\n",
    "Your Code\n",
    "'''"
   ]
  },
  {
   "cell_type": "code",
   "execution_count": 5,
   "metadata": {},
   "outputs": [
    {
     "data": {
      "text/html": [
       "<div>\n",
       "<style scoped>\n",
       "    .dataframe tbody tr th:only-of-type {\n",
       "        vertical-align: middle;\n",
       "    }\n",
       "\n",
       "    .dataframe tbody tr th {\n",
       "        vertical-align: top;\n",
       "    }\n",
       "\n",
       "    .dataframe thead th {\n",
       "        text-align: right;\n",
       "    }\n",
       "</style>\n",
       "<table border=\"1\" class=\"dataframe\">\n",
       "  <thead>\n",
       "    <tr style=\"text-align: right;\">\n",
       "      <th></th>\n",
       "      <th>SO2</th>\n",
       "      <th>CO</th>\n",
       "      <th>O3</th>\n",
       "      <th>PM10</th>\n",
       "      <th>NOx</th>\n",
       "      <th>NO</th>\n",
       "      <th>NO2</th>\n",
       "      <th>THC</th>\n",
       "      <th>NMHC</th>\n",
       "      <th>CH4</th>\n",
       "    </tr>\n",
       "  </thead>\n",
       "  <tbody>\n",
       "    <tr>\n",
       "      <th>2019/01</th>\n",
       "      <td>4.10</td>\n",
       "      <td>0.67</td>\n",
       "      <td>24.70</td>\n",
       "      <td>78</td>\n",
       "      <td>38.01</td>\n",
       "      <td>7.95</td>\n",
       "      <td>30.06</td>\n",
       "      <td>2.27</td>\n",
       "      <td>0.27</td>\n",
       "      <td>2</td>\n",
       "    </tr>\n",
       "    <tr>\n",
       "      <th>2019/02</th>\n",
       "      <td>3.30</td>\n",
       "      <td>0.48</td>\n",
       "      <td>29.40</td>\n",
       "      <td>57</td>\n",
       "      <td>25.62</td>\n",
       "      <td>4.76</td>\n",
       "      <td>20.86</td>\n",
       "      <td>2.11</td>\n",
       "      <td>0.17</td>\n",
       "      <td>1.94</td>\n",
       "    </tr>\n",
       "    <tr>\n",
       "      <th>2019/03</th>\n",
       "      <td>3.90</td>\n",
       "      <td>0.50</td>\n",
       "      <td>29.20</td>\n",
       "      <td>52</td>\n",
       "      <td>27.84</td>\n",
       "      <td>5.41</td>\n",
       "      <td>22.43</td>\n",
       "      <td>2.12</td>\n",
       "      <td>0.18</td>\n",
       "      <td>1.94</td>\n",
       "    </tr>\n",
       "    <tr>\n",
       "      <th>2019/04</th>\n",
       "      <td>3.40</td>\n",
       "      <td>0.39</td>\n",
       "      <td>30.40</td>\n",
       "      <td>42</td>\n",
       "      <td>21.83</td>\n",
       "      <td>4.16</td>\n",
       "      <td>17.68</td>\n",
       "      <td>2.02</td>\n",
       "      <td>0.14</td>\n",
       "      <td>1.88</td>\n",
       "    </tr>\n",
       "    <tr>\n",
       "      <th>2019/05</th>\n",
       "      <td>3.30</td>\n",
       "      <td>0.38</td>\n",
       "      <td>28.60</td>\n",
       "      <td>35</td>\n",
       "      <td>22.55</td>\n",
       "      <td>4.58</td>\n",
       "      <td>17.98</td>\n",
       "      <td>2.02</td>\n",
       "      <td>0.16</td>\n",
       "      <td>1.86</td>\n",
       "    </tr>\n",
       "    <tr>\n",
       "      <th>2019/06</th>\n",
       "      <td>4.10</td>\n",
       "      <td>0.24</td>\n",
       "      <td>16.30</td>\n",
       "      <td>20</td>\n",
       "      <td>17.15</td>\n",
       "      <td>5.08</td>\n",
       "      <td>12.08</td>\n",
       "      <td>1.92</td>\n",
       "      <td>0.13</td>\n",
       "      <td>1.79</td>\n",
       "    </tr>\n",
       "    <tr>\n",
       "      <th>2019/07</th>\n",
       "      <td>4</td>\n",
       "      <td>0.28</td>\n",
       "      <td>15.50</td>\n",
       "      <td>24</td>\n",
       "      <td>17.71</td>\n",
       "      <td>5.16</td>\n",
       "      <td>12.54</td>\n",
       "      <td>1.93</td>\n",
       "      <td>0.14</td>\n",
       "      <td>1.80</td>\n",
       "    </tr>\n",
       "    <tr>\n",
       "      <th>2019/08</th>\n",
       "      <td>4.60</td>\n",
       "      <td>0.33</td>\n",
       "      <td>19.70</td>\n",
       "      <td>27</td>\n",
       "      <td>19.66</td>\n",
       "      <td>5.17</td>\n",
       "      <td>14.49</td>\n",
       "      <td>1.97</td>\n",
       "      <td>0.15</td>\n",
       "      <td>1.82</td>\n",
       "    </tr>\n",
       "    <tr>\n",
       "      <th>2019/09</th>\n",
       "      <td>3.50</td>\n",
       "      <td>0.32</td>\n",
       "      <td>35.70</td>\n",
       "      <td>35</td>\n",
       "      <td>18.66</td>\n",
       "      <td>3.63</td>\n",
       "      <td>15.03</td>\n",
       "      <td>1.98</td>\n",
       "      <td>0.13</td>\n",
       "      <td>1.86</td>\n",
       "    </tr>\n",
       "    <tr>\n",
       "      <th>2019/10</th>\n",
       "      <td>3.20</td>\n",
       "      <td>0.36</td>\n",
       "      <td>44</td>\n",
       "      <td>50</td>\n",
       "      <td>19.50</td>\n",
       "      <td>3.50</td>\n",
       "      <td>15.99</td>\n",
       "      <td>2.05</td>\n",
       "      <td>0.13</td>\n",
       "      <td>1.92</td>\n",
       "    </tr>\n",
       "    <tr>\n",
       "      <th>2019/11</th>\n",
       "      <td>3.60</td>\n",
       "      <td>0.46</td>\n",
       "      <td>34.80</td>\n",
       "      <td>63</td>\n",
       "      <td>28.99</td>\n",
       "      <td>5.21</td>\n",
       "      <td>23.78</td>\n",
       "      <td>2.15</td>\n",
       "      <td>0.21</td>\n",
       "      <td>1.94</td>\n",
       "    </tr>\n",
       "  </tbody>\n",
       "</table>\n",
       "</div>"
      ],
      "text/plain": [
       "          SO2    CO     O3 PM10    NOx    NO    NO2   THC  NMHC   CH4\n",
       "2019/01  4.10  0.67  24.70   78  38.01  7.95  30.06  2.27  0.27     2\n",
       "2019/02  3.30  0.48  29.40   57  25.62  4.76  20.86  2.11  0.17  1.94\n",
       "2019/03  3.90  0.50  29.20   52  27.84  5.41  22.43  2.12  0.18  1.94\n",
       "2019/04  3.40  0.39  30.40   42  21.83  4.16  17.68  2.02  0.14  1.88\n",
       "2019/05  3.30  0.38  28.60   35  22.55  4.58  17.98  2.02  0.16  1.86\n",
       "2019/06  4.10  0.24  16.30   20  17.15  5.08  12.08  1.92  0.13  1.79\n",
       "2019/07     4  0.28  15.50   24  17.71  5.16  12.54  1.93  0.14  1.80\n",
       "2019/08  4.60  0.33  19.70   27  19.66  5.17  14.49  1.97  0.15  1.82\n",
       "2019/09  3.50  0.32  35.70   35  18.66  3.63  15.03  1.98  0.13  1.86\n",
       "2019/10  3.20  0.36     44   50  19.50  3.50  15.99  2.05  0.13  1.92\n",
       "2019/11  3.60  0.46  34.80   63  28.99  5.21  23.78  2.15  0.21  1.94"
      ]
     },
     "execution_count": 5,
     "metadata": {},
     "output_type": "execute_result"
    }
   ],
   "source": [
    "import pandas as pd\n",
    "pd.DataFrame(d)"
   ]
  },
  {
   "cell_type": "code",
   "execution_count": null,
   "metadata": {},
   "outputs": [],
   "source": []
  },
  {
   "cell_type": "code",
   "execution_count": null,
   "metadata": {},
   "outputs": [],
   "source": []
  }
 ],
 "metadata": {
  "kernelspec": {
   "display_name": "Python 3",
   "language": "python",
   "name": "python3"
  },
  "language_info": {
   "codemirror_mode": {
    "name": "ipython",
    "version": 3
   },
   "file_extension": ".py",
   "mimetype": "text/x-python",
   "name": "python",
   "nbconvert_exporter": "python",
   "pygments_lexer": "ipython3",
   "version": "3.7.3"
  }
 },
 "nbformat": 4,
 "nbformat_minor": 2
}
