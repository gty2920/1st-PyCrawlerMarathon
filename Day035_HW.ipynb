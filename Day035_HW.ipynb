{
 "cells": [
  {
   "cell_type": "markdown",
   "metadata": {},
   "source": [
    "# 加速：多線程爬蟲\n",
    "\n",
    "\n",
    "\n",
    "* 了解知乎 API 使用方式與回傳內容\n",
    "* 撰寫程式存取 API 且添加標頭"
   ]
  },
  {
   "cell_type": "markdown",
   "metadata": {},
   "source": [
    "## 作業目標\n",
    "\n",
    "* 找一個之前實作過的爬蟲改用多線程改寫，比較前後時間的差異。\n",
    "\n",
    "\n",
    "\n"
   ]
  },
  {
   "cell_type": "code",
   "execution_count": 1,
   "metadata": {},
   "outputs": [],
   "source": [
    "'''\n",
    "Your Code\n",
    "'''\n",
    "import requests\n",
    "from bs4 import BeautifulSoup\n",
    "import time\n",
    "url = \"https://www.ptt.cc/bbs/hotboards.html\""
   ]
  },
  {
   "cell_type": "code",
   "execution_count": 2,
   "metadata": {},
   "outputs": [
    {
     "name": "stdout",
     "output_type": "stream",
     "text": [
      "222.50428700447083\n"
     ]
    }
   ],
   "source": [
    "res = requests.get(url)\n",
    "soup = BeautifulSoup(res.text)\n",
    "links = soup.find_all('div',{'class':'b-ent'})\n",
    "start = time.time()\n",
    "for i in links:\n",
    "    link = 'https://www.ptt.cc'.format(i.a['href'])\n",
    "    res1 = requests.get(link)\n",
    "end = time.time()\n",
    "print(end - start)"
   ]
  },
  {
   "cell_type": "code",
   "execution_count": 4,
   "metadata": {},
   "outputs": [
    {
     "name": "stdout",
     "output_type": "stream",
     "text": [
      "0.004963874816894531\n"
     ]
    },
    {
     "name": "stderr",
     "output_type": "stream",
     "text": [
      "Unhandled exception in thread started by <function get at 0x00000229958962F0>\n",
      "Unhandled exception in thread started by <function get at 0x00000229958962F0>\n",
      "Unhandled exception in thread started by <function get at 0x00000229958962F0>\n",
      "Unhandled exception in thread started by <function get at 0x00000229958962F0>\n",
      "Unhandled exception in thread started by <function get at 0x00000229958962F0>\n",
      "Unhandled exception in thread started by <function get at 0x00000229958962F0>\n",
      "Unhandled exception in thread started by <function get at 0x00000229958962F0>\n",
      "Unhandled exception in thread started by <function get at 0x00000229958962F0>\n",
      "Unhandled exception in thread started by <function get at 0x00000229958962F0>\n",
      "Unhandled exception in thread started by <function get at 0x00000229958962F0>\n",
      "Unhandled exception in thread started by <function get at 0x00000229958962F0>\n",
      "Unhandled exception in thread started by <function get at 0x00000229958962F0>\n",
      "Unhandled exception in thread started by <function get at 0x00000229958962F0>\n",
      "Unhandled exception in thread started by <function get at 0x00000229958962F0>\n",
      "Unhandled exception in thread started by <function get at 0x00000229958962F0>\n"
     ]
    }
   ],
   "source": [
    "import _thread\n",
    "res = requests.get(url)\n",
    "soup = BeautifulSoup(res.text)\n",
    "links = soup.find_all('div',{'class':'b-ent'})\n",
    "start = time.time()\n",
    "for i in links:\n",
    "    link = 'https://www.ptt.cc'.format(i.a['href'])\n",
    "    _thread.start_new_thread( requests.get, (link, ) )\n",
    "end = time.time()\n",
    "print(end - start)"
   ]
  },
  {
   "cell_type": "code",
   "execution_count": null,
   "metadata": {},
   "outputs": [],
   "source": []
  }
 ],
 "metadata": {
  "colab": {
   "name": "homework.ipynb",
   "provenance": []
  },
  "kernelspec": {
   "display_name": "Python 3",
   "language": "python",
   "name": "python3"
  },
  "language_info": {
   "codemirror_mode": {
    "name": "ipython",
    "version": 3
   },
   "file_extension": ".py",
   "mimetype": "text/x-python",
   "name": "python",
   "nbconvert_exporter": "python",
   "pygments_lexer": "ipython3",
   "version": "3.7.3"
  }
 },
 "nbformat": 4,
 "nbformat_minor": 1
}
