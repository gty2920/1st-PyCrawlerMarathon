{
 "cells": [
  {
   "cell_type": "markdown",
   "metadata": {
    "colab_type": "text",
    "id": "I8CoX4R7VoCd"
   },
   "source": [
    "# 反爬：代理伺服器/IP\n",
    "\n",
    "* 了解「IP 黑/白名單」的反爬蟲機制\n",
    "* 「IP 黑/白名單」反爬蟲的因應策略"
   ]
  },
  {
   "cell_type": "markdown",
   "metadata": {
    "colab_type": "text",
    "id": "n-3DZ_r5VoCe"
   },
   "source": [
    "## 作業目標\n",
    "\n",
    "* 目前程式中的 proxy_ips 是手動輸入的，請根據 https://free-proxy-list.net/ 寫一個可自動化抓取可用 Proxy 的 proxy_ips。\n",
    "\n",
    "\n"
   ]
  },
  {
   "cell_type": "code",
   "execution_count": 1,
   "metadata": {},
   "outputs": [],
   "source": [
    "import requests\n",
    "from bs4 import BeautifulSoup\n",
    "import random"
   ]
  },
  {
   "cell_type": "code",
   "execution_count": 2,
   "metadata": {
    "colab": {},
    "colab_type": "code",
    "id": "iny-9heBVoCf"
   },
   "outputs": [
    {
     "name": "stdout",
     "output_type": "stream",
     "text": [
      "['195.211.30.115:34902', '202.29.237.211:3128', '186.250.29.1:53281', '81.198.119.241:49923', '190.97.209.74:60999', '115.74.201.137:42108', '185.19.176.237:53281', '117.197.102.198:80', '212.87.248.11:40762', '151.232.72.22:80', '103.239.255.170:38146', '181.118.155.20:52849', '202.57.35.74:30919', '197.248.184.158:53281', '1.10.189.107:51618', '178.47.139.50:8080', '13.230.194.71:80', '159.192.97.181:23500', '170.233.123.150:8080', '1.10.188.203:45476', '203.19.88.59:80', '103.239.253.218:31913', '195.154.255.110:8118', '77.66.203.114:33097', '188.166.137.244:80', '190.216.147.70:41310', '118.172.201.59:52018', '91.203.199.159:80', '80.65.28.57:30962', '35.196.237.102:80', '36.67.24.109:37641', '202.150.139.46:59979', '115.77.191.180:53281', '50.236.148.254:39970', '103.224.185.20:56829', '176.36.164.240:48039', '154.117.143.126:8080', '178.69.191.120:34953', '36.89.190.57:54461', '185.34.22.225:44050', '81.190.208.52:37947', '118.173.233.39:48988', '190.210.223.111:80', '103.122.90.182:53281', '196.20.107.60:80', '103.250.158.23:61219', '175.139.190.165:52890', '79.115.245.227:8080', '80.28.243.202:45427', '212.73.77.200:59763', '41.193.12.50:42313', '143.255.52.25:44298', '180.179.98.22:3128', '41.59.254.99:80', '212.154.83.108:35116', '103.88.221.105:35411', '166.150.32.184:43539', '37.19.87.47:61067', '189.204.242.178:8080', '41.170.12.92:37444', '197.159.12.167:59369', '5.58.85.32:59824', '103.250.166.16:48340', '36.66.126.135:61535', '95.67.47.94:53281', '62.201.230.37:48958', '124.41.243.31:30978', '139.255.94.122:44315', '103.66.47.97:8080', '157.245.232.5:80', '1.179.184.158:56633', '54.38.110.35:47640', '185.104.252.9:9090', '111.92.240.134:30598', '95.79.57.206:53281', '109.199.77.83:41138', '204.15.243.233:58159', '36.89.191.217:56816', '41.216.230.148:41351', '62.106.122.90:36535', '84.214.150.146:8080', '89.216.48.230:44061', '91.207.61.241:1182', '222.165.204.162:23500', '91.214.128.243:23500', '177.222.251.162:33834', '74.59.132.126:49073', '101.51.141.49:57977', '114.134.190.230:37294', '203.92.41.235:443', '41.193.12.65:42313', '185.218.191.4:8080', '103.133.204.169:8080', '192.99.160.45:8080', '154.90.8.239:8080', '186.192.17.242:8080', '192.141.5.58:8080', '103.214.191.253:8080', '124.158.144.186:8080', '110.164.101.129:8080']\n"
     ]
    }
   ],
   "source": [
    "proxy_ips = []\n",
    "\n",
    "# 對 https://free-proxy-list.net/ 發送請求，並從表格中整理出免費的代理伺服器\n",
    "\n",
    "headers = {'User-Agent': 'Mozilla/5.0 (Macintosh; Intel Mac OS X 10_11_5) AppleWebKit/537.36 (KHTML, like Gecko) Cafari/537.36'}\n",
    "url = 'https://free-proxy-list.net/'\n",
    "response = requests.get(url, headers=headers)\n",
    "soup = BeautifulSoup(response.text, 'lxml')\n",
    "\n",
    "for tr in soup.find('tbody').find_all('tr')[:100]:\n",
    "    proxy = tr.find_all('td')[0].text + ':' + tr.find_all('td')[1].text\n",
    "    proxy_ips.append(proxy)\n",
    "    \n",
    "print(proxy_ips)"
   ]
  },
  {
   "cell_type": "code",
   "execution_count": 3,
   "metadata": {
    "colab": {},
    "colab_type": "code",
    "id": "75dIsHjiVoCi"
   },
   "outputs": [
    {
     "name": "stdout",
     "output_type": "stream",
     "text": [
      "Use 195.211.30.115:34902\n",
      "Fail\n",
      "Use 202.29.237.211:3128\n",
      "Fail\n",
      "Use 186.250.29.1:53281\n",
      "Your IP address: 186.250.29.1\n",
      "Use 81.198.119.241:49923\n",
      "Fail\n",
      "Use 190.97.209.74:60999\n",
      "Your IP address: 190.97.209.74\n",
      "Use 115.74.201.137:42108\n",
      "Fail\n",
      "Use 185.19.176.237:53281\n",
      "Fail\n",
      "Use 117.197.102.198:80\n",
      "Your IP address: 117.197.102.195\n",
      "Use 212.87.248.11:40762\n",
      "Fail\n",
      "Use 151.232.72.22:80\n",
      "Fail\n",
      "Use 103.239.255.170:38146\n",
      "Fail\n",
      "Use 181.118.155.20:52849\n",
      "Fail\n",
      "Use 202.57.35.74:30919\n",
      "Fail\n",
      "Use 197.248.184.158:53281\n",
      "Your IP address: 197.248.184.158\n",
      "Use 1.10.189.107:51618\n",
      "Your IP address: 1.10.189.107\n",
      "Use 178.47.139.50:8080\n",
      "Fail\n",
      "Use 13.230.194.71:80\n",
      "Your IP address: 13.230.194.71\n",
      "['186.250.29.1:53281', '190.97.209.74:60999', '117.197.102.198:80', '197.248.184.158:53281', '1.10.189.107:51618', '13.230.194.71:80']\n"
     ]
    }
   ],
   "source": [
    "available_proxies = []\n",
    "\n",
    "for i in range(100):\n",
    "    ip = proxy_ips[i]\n",
    "    print('Use', ip)\n",
    "    try:\n",
    "        resp = requests.get('http://ip.filefab.com/index.php',\n",
    "                        proxies={'http': ip, 'https': ip}, timeout=10)\n",
    "        soup = BeautifulSoup(resp.text, 'html5lib')\n",
    "        print(soup.find('h1', id='ipd').text.strip())\n",
    "        available_proxies.append(ip)\n",
    "        if len(available_proxies) > 5:\n",
    "            break\n",
    "    except:\n",
    "        print('Fail')\n",
    "    \n",
    "print(available_proxies)"
   ]
  },
  {
   "cell_type": "code",
   "execution_count": 4,
   "metadata": {},
   "outputs": [
    {
     "name": "stdout",
     "output_type": "stream",
     "text": [
      "Use 186.250.29.1:53281\n",
      "Fail\n",
      "Use 190.97.209.74:60999\n",
      "{'origin': '190.97.209.74, 190.97.209.74'}\n",
      "Use 117.197.102.198:80\n",
      "Fail\n",
      "Use 197.248.184.158:53281\n",
      "{'origin': '197.248.184.158, 197.248.184.158'}\n",
      "Use 1.10.189.107:51618\n",
      "{'origin': '1.10.189.107, 1.10.189.107'}\n",
      "Use 13.230.194.71:80\n",
      "Fail\n"
     ]
    }
   ],
   "source": [
    "for ip in available_proxies:\n",
    "    print('Use', ip)\n",
    "    try:\n",
    "        resp = requests.get('https://httpbin.org/ip',\n",
    "                        proxies={'http': ip, 'https': ip}, timeout=10)\n",
    "        print(resp.json())\n",
    "    except:\n",
    "        print('Fail')"
   ]
  },
  {
   "cell_type": "code",
   "execution_count": null,
   "metadata": {},
   "outputs": [],
   "source": []
  }
 ],
 "metadata": {
  "colab": {
   "name": "homework.ipynb",
   "provenance": []
  },
  "kernelspec": {
   "display_name": "Python 3",
   "language": "python",
   "name": "python3"
  },
  "language_info": {
   "codemirror_mode": {
    "name": "ipython",
    "version": 3
   },
   "file_extension": ".py",
   "mimetype": "text/x-python",
   "name": "python",
   "nbconvert_exporter": "python",
   "pygments_lexer": "ipython3",
   "version": "3.7.3"
  }
 },
 "nbformat": 4,
 "nbformat_minor": 1
}
